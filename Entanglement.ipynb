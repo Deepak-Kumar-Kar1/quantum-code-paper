{
 "cells": [
  {
   "cell_type": "code",
   "execution_count": 1,
   "id": "1ade7203",
   "metadata": {},
   "outputs": [
    {
     "name": "stdout",
     "output_type": "stream",
     "text": [
      "DensityMatrix([[1.+0.j, 0.+0.j],\n",
      "               [0.+0.j, 0.+0.j]],\n",
      "              dims=(2,))\n",
      "(1+0j)\n"
     ]
    }
   ],
   "source": [
    "from qiskit.quantum_info import partial_trace, DensityMatrix\n",
    "import numpy as np\n",
    "\n",
    "# Example: Bell state\n",
    "from qiskit.quantum_info import Statevector\n",
    "\n",
    "psi = Statevector.from_label('10') + Statevector.from_label('10')\n",
    "psi = psi / np.linalg.norm(psi.data)\n",
    "\n",
    "# Convert to density matrix\n",
    "rho = DensityMatrix(psi)\n",
    "\n",
    "# Take partial trace over qubit 1 (i.e., trace out second qubit)\n",
    "rho_A = partial_trace(rho, [1])\n",
    "\n",
    "print(rho_A)\n",
    "print(rho_A.purity())  # This gives Tr(rho^2)\n"
   ]
  },
  {
   "cell_type": "markdown",
   "id": "f1031175",
   "metadata": {},
   "source": [
    "For an entangled pure state like the Bell state, this will return purity = 0.5, confirming that subsystem A is in a mixed state → entangled."
   ]
  },
  {
   "cell_type": "code",
   "execution_count": 2,
   "id": "72a3f306",
   "metadata": {},
   "outputs": [
    {
     "name": "stdout",
     "output_type": "stream",
     "text": [
      "Statevector([0.70710678+0.j, 0.        +0.j, 0.        +0.j,\n",
      "             0.70710678+0.j],\n",
      "            dims=(2, 2))\n",
      "[[0.5+0.j 0. +0.j 0. +0.j 0.5+0.j]\n",
      " [0. +0.j 0. +0.j 0. +0.j 0. +0.j]\n",
      " [0. +0.j 0. +0.j 0. +0.j 0. +0.j]\n",
      " [0.5+0.j 0. +0.j 0. +0.j 0.5+0.j]]\n",
      "Purity Tr(ρ_A²): (0.4999999999999998+0j)\n"
     ]
    }
   ],
   "source": [
    "from qiskit.quantum_info import Statevector, DensityMatrix, partial_trace\n",
    "import numpy as np\n",
    "\n",
    "# Unnormalized Bell state\n",
    "psi = Statevector.from_label('00') + Statevector.from_label('11')\n",
    "\n",
    "# Normalize it manually\n",
    "psi = psi / np.linalg.norm(psi.data)\n",
    "print(psi)\n",
    "# Convert to density matrix\n",
    "rho = DensityMatrix(psi)\n",
    "\n",
    "# Partial trace over qubit 1 (keep qubit 0)\n",
    "rho_A = partial_trace(rho, [1])\n",
    "\n",
    "# Print the reduced density matrix and its purity\n",
    "print(np.array(rho))\n",
    "print(\"Purity Tr(ρ_A²):\", rho_A.purity())\n"
   ]
  },
  {
   "cell_type": "code",
   "execution_count": 3,
   "id": "3318f5bd",
   "metadata": {},
   "outputs": [
    {
     "name": "stdout",
     "output_type": "stream",
     "text": [
      "True\n",
      "True\n",
      "True\n",
      "True\n",
      "True\n",
      "True\n",
      "True\n",
      "True\n",
      "True\n",
      "True\n"
     ]
    },
    {
     "name": "stderr",
     "output_type": "stream",
     "text": [
      "c:\\Users\\KIIT\\AppData\\Local\\Programs\\Python\\Python312\\Lib\\site-packages\\scipy\\linalg\\_matfuncs.py:202: LogmExactlySingularWarning: The logm input matrix is exactly singular.\n",
      "  F = scipy.linalg._matfuncs_inv_ssq._logm(A)\n"
     ]
    }
   ],
   "source": [
    "### Using Entropy to verify entanglement\n",
    "\n",
    "import numpy as np\n",
    "import random\n",
    "from scipy.linalg import logm\n",
    "# Random 2x2 density matrix\n",
    "\n",
    "def random_density_matrix(pure=True):\n",
    " \n",
    "    # Generate a random 2x2 density matrix\n",
    "    if pure:\n",
    "        # Pure state: |ψ⟩⟨ψ|\n",
    "        psi = np.random.rand(2) #+ 1j * np.random.rand(4)\n",
    "        psi /= np.linalg.norm(psi)\n",
    "        return np.outer(psi, np.conj(psi))\n",
    "    else:\n",
    "        # Mixed: convex combination of pure states\n",
    "        rho1 = random_density_matrix(True)\n",
    "        rho2 = random_density_matrix(True)\n",
    "        p = np.random.rand()  # Random probability for mixing\n",
    "        return p * rho1 + (1 - p) * rho2\n",
    "\n",
    "X = []\n",
    "y = []\n",
    "\n",
    "for _ in range(1):\n",
    "    rho = random_density_matrix(True)\n",
    "    X.append(rho)\n",
    "    y.append(1)  # pure\n",
    "\n",
    "def tr_rho_log_rho_matrix(rho):\n",
    "    rho_log = logm(rho)\n",
    "    return np.trace(rho @ rho_log).real\n",
    "''' Von Neumann entropy is defined as S(ρ) = -Tr(ρ log ρ).\n",
    "If ρ is pure, this sum = 0.\n",
    "If ρ is maximally mixed, it gives maximum negative value.'''\n",
    "for k in range(10):\n",
    "    print(np.isclose(tr_rho_log_rho_matrix(X[0]), 0, atol=1e-5))\n"
   ]
  },
  {
   "cell_type": "code",
   "execution_count": 32,
   "id": "7ef165be",
   "metadata": {},
   "outputs": [
    {
     "name": "stdout",
     "output_type": "stream",
     "text": [
      "['00', '11']\n",
      "['00', '10']\n",
      "['01', '10']\n",
      "['01', '11']\n",
      "[1, 0, 1, 0]\n"
     ]
    }
   ],
   "source": [
    "# Generate random matrices and specify if they are entangled or not\n",
    "from qiskit.quantum_info import partial_trace, DensityMatrix\n",
    "import numpy as np\n",
    "\n",
    "# Example: Bell state\n",
    "from qiskit.quantum_info import Statevector\n",
    "\n",
    "def random_bitstrings(n, k):\n",
    "    return [''.join(str(b) for b in np.random.randint(0, 2, k)) for _ in range(n)]\n",
    "def create_random_dataset(n):\n",
    "    X = []\n",
    "    y = []\n",
    "    for i in range(n):\n",
    "        bitstring = random_bitstrings(2,2)\n",
    "        # print(random_bitstrings(2,2))\n",
    "        print(bitstring)\n",
    "        rt = np.random.choice([-1,1])\n",
    "        psi = Statevector.from_label(bitstring[0]) + rt*Statevector.from_label(bitstring[1])\n",
    "        if np.linalg.norm(psi.data) != 0:\n",
    "            psi = psi / np.linalg.norm(psi.data)\n",
    "        # print(psi)\n",
    "        # Convert to density matrix\n",
    "        rho = DensityMatrix(psi)\n",
    "        \n",
    "        # Take partial trace over qubit 1 (i.e., trace out second qubit)\n",
    "        rho_A = partial_trace(rho, [1])\n",
    "        if rho_A.purity()<0.9:\n",
    "            X.append(rho)\n",
    "            y.append(1) # Entangled\n",
    "        else:\n",
    "            X.append(rho)\n",
    "            y.append(0) # Separable\n",
    "    return np.array(X), y\n",
    "\n",
    "X,y = create_random_dataset(4)\n",
    "        # print(rho_A)\n",
    "        # print(rho_A.purity())  # This gives Tr(rho^2)\n",
    "# print(X)\n",
    "print(y)\n",
    "\n",
    "\n",
    "## T0 check if the entanglement possibility is 25%\n",
    "# y_sums = []\n",
    "\n",
    "# for i in range(50):\n",
    "#     _, y = create_random_dataset(10)\n",
    "#     y_sums.append(np.sum(y))\n",
    "\n",
    "# # Compute average number of 1s in y\n",
    "# mean_ones = np.mean(y_sums)\n",
    "# print(mean_ones)"
   ]
  },
  {
   "cell_type": "code",
   "execution_count": 20,
   "id": "17eaa2bf",
   "metadata": {},
   "outputs": [
    {
     "name": "stdout",
     "output_type": "stream",
     "text": [
      "['00', '00']\n",
      "['00', '00']\n",
      "['01', '00']\n",
      "['10', '10']\n",
      "['10', '00']\n",
      "['01', '11']\n",
      "['10', '01']\n",
      "['00', '10']\n",
      "['11', '00']\n",
      "['01', '01']\n",
      "['01', '11']\n",
      "['10', '01']\n",
      "['01', '00']\n",
      "['00', '01']\n",
      "['10', '10']\n",
      "['01', '01']\n",
      "['10', '00']\n",
      "['00', '10']\n",
      "['11', '11']\n",
      "['10', '00']\n",
      "['11', '01']\n",
      "['10', '00']\n",
      "['11', '10']\n",
      "['01', '10']\n",
      "['11', '00']\n",
      "['00', '01']\n",
      "['10', '00']\n",
      "['11', '10']\n",
      "['00', '11']\n",
      "['01', '01']\n",
      "['11', '11']\n",
      "['11', '01']\n",
      "['00', '01']\n",
      "['00', '11']\n",
      "['00', '00']\n",
      "['10', '10']\n",
      "['11', '11']\n",
      "['00', '10']\n",
      "['00', '10']\n",
      "['10', '10']\n",
      "['00', '10']\n",
      "['01', '01']\n",
      "['01', '00']\n",
      "['01', '01']\n",
      "['11', '01']\n",
      "['01', '00']\n",
      "['11', '10']\n",
      "['01', '11']\n",
      "['11', '10']\n",
      "['01', '11']\n"
     ]
    }
   ],
   "source": [
    "# Create a dataset of it\n",
    "import matplotlib.pyplot as plt\n",
    "from sklearn.datasets import make_classification\n",
    "dm=create_random_dataset(50)\n",
    "X, y=dm\n",
    "# print(X[0])\n",
    "X = np.abs(X)\n",
    "# y = np.abs(y)\n",
    "# plt.scatter(X[:, 0], X[:, 1], c=y)\n",
    "# plt.xlabel(\"X[0]\")\n",
    "# plt.ylabel(\"X[1]\")\n",
    "# plt.show()\n",
    "\n",
    "\n"
   ]
  },
  {
   "cell_type": "code",
   "execution_count": 21,
   "id": "2050f902",
   "metadata": {},
   "outputs": [],
   "source": [
    "# Predict with some features in it\n",
    "def rho_to_features(rho):\n",
    "    # Use real and imaginary parts flattened\n",
    "    return np.hstack([np.real(rho).flatten(), np.imag(rho).flatten()])\n",
    "\n",
    "X_features = np.array([rho_to_features(rho) for rho in X])\n",
    "y = np.array(y)"
   ]
  },
  {
   "cell_type": "code",
   "execution_count": 22,
   "id": "20da52ef",
   "metadata": {},
   "outputs": [
    {
     "name": "stdout",
     "output_type": "stream",
     "text": [
      "Accuracy: 1.00\n"
     ]
    }
   ],
   "source": [
    "# Use ML models to train these\n",
    "from sklearn import svm\n",
    "import numpy as np\n",
    "from sklearn.model_selection import train_test_split\n",
    "\n",
    "X_train, X_test, y_train, y_test = train_test_split(\n",
    "        X_features, y, test_size=0.4, random_state=42\n",
    "    )\n",
    "\n",
    "clf = svm.SVC(kernel='poly',degree=2, C=1)\n",
    "# print(X_train)\n",
    "# print(y_train)\n",
    "# 4. Train the SVM\n",
    "clf.fit(X_train, y_train)\n",
    "preds = clf.predict(X_test)\n",
    "\n",
    "score = clf.score(X_test, y_test)\n",
    "print(f\"Accuracy: {score:.2f}\")"
   ]
  },
  {
   "cell_type": "code",
   "execution_count": 35,
   "id": "338bffe5",
   "metadata": {},
   "outputs": [
    {
     "name": "stdout",
     "output_type": "stream",
     "text": [
      "(1+0j)\n"
     ]
    }
   ],
   "source": [
    "from qiskit.quantum_info import Statevector, DensityMatrix, partial_trace\n",
    "import numpy as np\n",
    "\n",
    "# Define the statevector\n",
    "psi = Statevector([\n",
    "    1/2,       # |00⟩\n",
    "    1j/2,      # |01⟩\n",
    "   -1/2,       # |10⟩\n",
    "   -1j/2       # |11⟩\n",
    "])\n",
    "\n",
    "# Density matrix of the state\n",
    "rho = DensityMatrix(psi)\n",
    "\n",
    "# Compute rho squared\n",
    "rho_squared = DensityMatrix(rho.data @ rho.data)\n",
    "\n",
    "# Partial trace over second qubit (index 1)\n",
    "reduced_rho = partial_trace(rho_squared, [1])\n",
    "\n",
    "# Display result\n",
    "print(reduced_rho.purity())\n"
   ]
  }
 ],
 "metadata": {
  "kernelspec": {
   "display_name": "Python 3",
   "language": "python",
   "name": "python3"
  },
  "language_info": {
   "codemirror_mode": {
    "name": "ipython",
    "version": 3
   },
   "file_extension": ".py",
   "mimetype": "text/x-python",
   "name": "python",
   "nbconvert_exporter": "python",
   "pygments_lexer": "ipython3",
   "version": "3.12.4"
  }
 },
 "nbformat": 4,
 "nbformat_minor": 5
}

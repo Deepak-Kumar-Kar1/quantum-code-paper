{
 "cells": [
  {
   "cell_type": "code",
   "execution_count": 106,
   "id": "a228c588",
   "metadata": {},
   "outputs": [
    {
     "name": "stdout",
     "output_type": "stream",
     "text": [
      "(40, 2) (40,)\n"
     ]
    }
   ],
   "source": [
    "## Using Non-Linear Features,\n",
    "import numpy as np\n",
    "import random\n",
    "from sklearn.svm import SVC\n",
    "from sklearn.preprocessing import StandardScaler\n",
    "from sklearn.pipeline import make_pipeline\n",
    "from sklearn.model_selection import train_test_split\n",
    "# Step 1: Generate 10 random 2x2 density matrices\n",
    "\n",
    "def random_density_matrix(pure=True):\n",
    " \n",
    "    # Generate a random 2x2 density matrix\n",
    "    if pure:\n",
    "        # Pure state: |ψ⟩⟨ψ|\n",
    "        psi = np.random.rand(2) #+ 1j * np.random.rand(2)\n",
    "        psi /= np.linalg.norm(psi)\n",
    "        return np.outer(psi, np.conj(psi))\n",
    "    else:\n",
    "        # Mixed: convex combination of pure states\n",
    "        rho1 = random_density_matrix(True)\n",
    "        rho2 = random_density_matrix(True)\n",
    "        p = np.random.rand()  # Random probability for mixing\n",
    "        return p * rho1 + (1 - p) * rho2\n",
    "\n",
    "X = []\n",
    "y = []\n",
    "\n",
    "for _ in range(20):\n",
    "    rho = random_density_matrix(True)\n",
    "    X.append(rho)\n",
    "    y.append(1)  # pure\n",
    "\n",
    "for _ in range(20):\n",
    "    rho = random_density_matrix(False)\n",
    "    X.append(rho)\n",
    "    y.append(0)  # mixed\n",
    "\n",
    "# random.seed(42)\n",
    "# random.shuffle(X)\n",
    "# random.shuffle(y)\n",
    "\n",
    "# Step 2: Feature extraction\n",
    "def rho_to_features(rho):\n",
    "    # Use real and imaginary parts flattened\n",
    "    return np.hstack([np.trace(rho),np.trace(rho@rho)])\n",
    "\n",
    "#[rho[0,0]**2,rho[1,1]**2,rho[0,1]*rho[1,0],rho[0,0]*rho[0,1],rho[0,1]*rho[1,1],rho[0,0]*rho[1,0],rho[1,0]*rho[1,1]]\n",
    "\n",
    "#[rho[0,0]**2 + rho[0,1]*rho[1,0], rho[0,0]*rho[0,1]+rho[0,1]*rho[1,1], rho[0,0]*rho[1,0]+rho[1,0]*rho[1,1],rho[1,1]**2+rho[0,1]*rho[1,0]]\n",
    "X_features2D = np.array([rho_to_features(rho) for rho in X])\n",
    "y = np.array(y)\n",
    "\n",
    "density_matrix2D = (X_features2D, y)\n",
    "print(X_features2D.shape, y.shape)"
   ]
  },
  {
   "cell_type": "code",
   "execution_count": 107,
   "id": "ce120207",
   "metadata": {},
   "outputs": [
    {
     "name": "stdout",
     "output_type": "stream",
     "text": [
      "(40, 4) (40,)\n"
     ]
    }
   ],
   "source": [
    "def rho_to_features(rho):\n",
    "    # Use real flattened\n",
    "    return np.hstack([rho[0,0]**2 + rho[0,1]*rho[1,0], rho[0,0]*rho[0,1]+rho[0,1]*rho[1,1], rho[0,0]*rho[1,0]+rho[1,0]*rho[1,1],rho[1,1]**2+rho[0,1]*rho[1,0]])\n",
    "\n",
    "#[rho[0,0]**2,rho[1,1]**2,rho[0,1]*rho[1,0],rho[0,0]*rho[0,1],rho[0,1]*rho[1,1],rho[0,0]*rho[1,0],rho[1,0]*rho[1,1]]\n",
    "\n",
    "#[rho[0,0]**2 + rho[0,1]*rho[1,0], rho[0,0]*rho[0,1]+rho[0,1]*rho[1,1], rho[0,0]*rho[1,0]+rho[1,0]*rho[1,1],rho[1,1]**2+rho[0,1]*rho[1,0]]\n",
    "X_features4D = np.array([rho_to_features(rho) for rho in X])\n",
    "y = np.array(y)\n",
    "# X_features = X_features[:,0:2]\n",
    "# X_features = X_features[:,0:2]\n",
    "density_matrix4D = (X_features4D, y)\n",
    "print(X_features4D.shape, y.shape)"
   ]
  },
  {
   "cell_type": "code",
   "execution_count": 108,
   "id": "b5b1c086",
   "metadata": {},
   "outputs": [
    {
     "name": "stdout",
     "output_type": "stream",
     "text": [
      "(40, 7) (40,)\n"
     ]
    }
   ],
   "source": [
    "def rho_to_features(rho):\n",
    "    # Use real flattened\n",
    "    return np.hstack([rho[0,0]**2,rho[1,1]**2,rho[0,1]*rho[1,0],rho[0,0]*rho[0,1],rho[0,1]*rho[1,1],rho[0,0]*rho[1,0],rho[1,0]*rho[1,1]])\n",
    "\n",
    "#[rho[0,0]**2,rho[1,1]**2,rho[0,1]*rho[1,0],rho[0,0]*rho[0,1],rho[0,1]*rho[1,1],rho[0,0]*rho[1,0],rho[1,0]*rho[1,1]]\n",
    "\n",
    "#[rho[0,0]**2 + rho[0,1]*rho[1,0], rho[0,0]*rho[0,1]+rho[0,1]*rho[1,1], rho[0,0]*rho[1,0]+rho[1,0]*rho[1,1],rho[1,1]**2+rho[0,1]*rho[1,0]]\n",
    "X_features7D = np.array([rho_to_features(rho) for rho in X])\n",
    "y = np.array(y)\n",
    "# X_features = X_features[:,0:2]\n",
    "density_matrix7D = (X_features7D, y)\n",
    "print(X_features7D.shape, y.shape)"
   ]
  },
  {
   "cell_type": "code",
   "execution_count": 113,
   "id": "1c2b5ca1",
   "metadata": {},
   "outputs": [
    {
     "name": "stdout",
     "output_type": "stream",
     "text": [
      "2D\n",
      "Nearest Neighbors score: 0.94\n",
      "Linear SVM score: 0.88\n",
      "RBF SVM score: 0.88\n",
      "Gaussian Process score: 0.94\n",
      "Decision Tree score: 0.94\n",
      "Random Forest score: 0.94\n",
      "Neural Network score: 0.88\n",
      "AdaBoost score: 0.94\n",
      "Naive Bayes score: 0.94\n",
      "QDA score: 1.00\n",
      "4D\n",
      "Nearest Neighbors score: 0.44\n",
      "Linear SVM score: 0.62\n",
      "RBF SVM score: 0.56\n",
      "Gaussian Process score: 0.56\n",
      "Decision Tree score: 0.62\n",
      "Random Forest score: 0.62\n"
     ]
    },
    {
     "name": "stderr",
     "output_type": "stream",
     "text": [
      "c:\\Users\\KIIT\\AppData\\Local\\Programs\\Python\\Python312\\Lib\\site-packages\\sklearn\\discriminant_analysis.py:1024: LinAlgWarning: The covariance matrix of class 0 is not full rank. Increasing the value of parameter `reg_param` might help reducing the collinearity.\n",
      "  warnings.warn(\n",
      "c:\\Users\\KIIT\\AppData\\Local\\Programs\\Python\\Python312\\Lib\\site-packages\\sklearn\\discriminant_analysis.py:1024: LinAlgWarning: The covariance matrix of class 1 is not full rank. Increasing the value of parameter `reg_param` might help reducing the collinearity.\n",
      "  warnings.warn(\n",
      "c:\\Users\\KIIT\\AppData\\Local\\Programs\\Python\\Python312\\Lib\\site-packages\\sklearn\\discriminant_analysis.py:1024: LinAlgWarning: The covariance matrix of class 0 is not full rank. Increasing the value of parameter `reg_param` might help reducing the collinearity.\n",
      "  warnings.warn(\n",
      "c:\\Users\\KIIT\\AppData\\Local\\Programs\\Python\\Python312\\Lib\\site-packages\\sklearn\\discriminant_analysis.py:1024: LinAlgWarning: The covariance matrix of class 1 is not full rank. Increasing the value of parameter `reg_param` might help reducing the collinearity.\n",
      "  warnings.warn(\n"
     ]
    },
    {
     "name": "stdout",
     "output_type": "stream",
     "text": [
      "Neural Network score: 0.56\n",
      "AdaBoost score: 0.56\n",
      "Naive Bayes score: 0.69\n",
      "QDA score: 1.00\n",
      "7D\n",
      "Nearest Neighbors score: 0.44\n",
      "Linear SVM score: 0.56\n",
      "RBF SVM score: 0.62\n",
      "Gaussian Process score: 0.50\n",
      "Decision Tree score: 0.50\n",
      "Random Forest score: 0.69\n",
      "Neural Network score: 0.69\n",
      "AdaBoost score: 0.44\n",
      "Naive Bayes score: 0.75\n",
      "QDA score: 0.94\n"
     ]
    },
    {
     "name": "stderr",
     "output_type": "stream",
     "text": [
      "c:\\Users\\KIIT\\AppData\\Local\\Programs\\Python\\Python312\\Lib\\site-packages\\sklearn\\discriminant_analysis.py:1024: LinAlgWarning: The covariance matrix of class 0 is not full rank. Increasing the value of parameter `reg_param` might help reducing the collinearity.\n",
      "  warnings.warn(\n",
      "c:\\Users\\KIIT\\AppData\\Local\\Programs\\Python\\Python312\\Lib\\site-packages\\sklearn\\discriminant_analysis.py:1024: LinAlgWarning: The covariance matrix of class 1 is not full rank. Increasing the value of parameter `reg_param` might help reducing the collinearity.\n",
      "  warnings.warn(\n"
     ]
    }
   ],
   "source": [
    "import matplotlib.pyplot as plt\n",
    "import numpy as np\n",
    "from matplotlib.colors import ListedColormap\n",
    "from sklearn.datasets import make_circles, make_classification, make_moons\n",
    "from sklearn.discriminant_analysis import QuadraticDiscriminantAnalysis\n",
    "from sklearn.ensemble import AdaBoostClassifier, RandomForestClassifier\n",
    "from sklearn.gaussian_process import GaussianProcessClassifier\n",
    "from sklearn.gaussian_process.kernels import RBF\n",
    "from sklearn.inspection import DecisionBoundaryDisplay\n",
    "from sklearn.model_selection import train_test_split\n",
    "from sklearn.naive_bayes import GaussianNB\n",
    "from sklearn.neighbors import KNeighborsClassifier\n",
    "from sklearn.neural_network import MLPClassifier\n",
    "from sklearn.pipeline import make_pipeline\n",
    "from sklearn.preprocessing import StandardScaler\n",
    "from sklearn.svm import SVC\n",
    "from sklearn.tree import DecisionTreeClassifier\n",
    "# Writing the methods of classifiers in a list\n",
    "# allows us to iterate over them easily.\n",
    "names = [\n",
    "    \"Nearest Neighbors\",\n",
    "    \"Linear SVM\",\n",
    "    \"RBF SVM\",\n",
    "    \"Gaussian Process\",\n",
    "    \"Decision Tree\",\n",
    "    \"Random Forest\",\n",
    "    \"Neural Network\",\n",
    "    \"AdaBoost\",\n",
    "    \"Naive Bayes\",\n",
    "    \"QDA\",\n",
    "]\n",
    "feature = ['2D','4D','7D']\n",
    "# List of classifiers to be used in the example each with its own parameters.\n",
    "classifiers = [\n",
    "    KNeighborsClassifier(2),\n",
    "    SVC(kernel=\"linear\", C=1, random_state=42),\n",
    "    SVC(kernel='rbf', C=1, random_state=42),\n",
    "    GaussianProcessClassifier(1.0 * RBF(1.0), random_state=42),\n",
    "    DecisionTreeClassifier(max_depth=5, random_state=42),\n",
    "    RandomForestClassifier(\n",
    "        max_depth=5, n_estimators=10, max_features=1, random_state=42\n",
    "    ),\n",
    "    MLPClassifier(alpha=1, max_iter=1000, random_state=42),\n",
    "    AdaBoostClassifier(random_state=42),\n",
    "    GaussianNB(),\n",
    "    QuadraticDiscriminantAnalysis(),\n",
    "]\n",
    "\n",
    "datasets = [density_matrix2D, density_matrix4D, density_matrix7D]\n",
    "\n",
    "# figure = plt.figure(figsize=(27, 9))\n",
    "i = 1\n",
    "# iterate over datasets\n",
    "for ds_cnt, ds in enumerate(datasets):  # enumerate(datasets) returns pairs of (index, element) for each item in datasets.\n",
    "    # preprocess dataset, split into training and test part\n",
    "    X, y = ds\n",
    "    X_train, X_test, y_train, y_test = train_test_split(\n",
    "        X, y, test_size=0.4, random_state=42\n",
    "    )\n",
    "\n",
    "    # x_min, x_max = X[:, 0].min() - 0.5, X[:, 0].max() + 0.5\n",
    "    # y_min, y_max = X[:, 1].min() - 0.5, X[:, 1].max() + 0.5\n",
    "    # print(feature[i-1])\n",
    "    # # just plot the dataset first\n",
    "    # cm = plt.cm.RdBu\n",
    "    # cm_bright = ListedColormap([\"#FF0000\", \"#0000FF\"])\n",
    "    # ax = plt.subplot(len(datasets), len(classifiers) + 1, i)\n",
    "    # if ds_cnt == 0:\n",
    "    #     ax.set_title(\"Input data\")\n",
    "    # # Plot the training points\n",
    "    # ax.scatter(X_train[:, 0], X_train[:, 1], c=y_train, cmap=cm_bright, edgecolors=\"k\")\n",
    "    # # Plot the testing points\n",
    "    # ax.scatter(\n",
    "    #     X_test[:, 0], X_test[:, 1], c=y_test, cmap=cm_bright, alpha=0.6, edgecolors=\"k\"\n",
    "    # )\n",
    "    # ax.set_xlim(x_min, x_max)\n",
    "    # ax.set_ylim(y_min, y_max)\n",
    "    # ax.set_xticks(())\n",
    "    # ax.set_yticks(())\n",
    "    # i += 1\n",
    "    print(feature[ds_cnt])\n",
    "    # iterate over classifiers\n",
    "    for name, clf in zip(names, classifiers):\n",
    "        # ax = plt.subplot(len(datasets), len(classifiers) + 1, i)\n",
    "\n",
    "        clf = make_pipeline(StandardScaler(), clf)\n",
    "        clf.fit(X_train, y_train)\n",
    "        score = clf.score(X_test, y_test)\n",
    "        # DecisionBoundaryDisplay.from_estimator(\n",
    "        #     clf, X, cmap=cm, alpha=0.8, ax=ax, eps=0.5\n",
    "        # )\n",
    "\n",
    "        # # Plot the training points\n",
    "        # ax.scatter(\n",
    "        #     X_train[:, 0], X_train[:, 1], c=y_train, cmap=cm_bright, edgecolors=\"k\"\n",
    "        # )\n",
    "        # # Plot the testing points\n",
    "        # ax.scatter(\n",
    "        #     X_test[:, 0],\n",
    "        #     X_test[:, 1],\n",
    "        #     c=y_test,\n",
    "        #     cmap=cm_bright,\n",
    "        #     edgecolors=\"k\",\n",
    "        #     alpha=0.6,\n",
    "        # )\n",
    "\n",
    "        # ax.set_xlim(x_min, x_max)\n",
    "        # ax.set_ylim(y_min, y_max)\n",
    "        # ax.set_xticks(())\n",
    "        # ax.set_yticks(())\n",
    "        # if ds_cnt == 0:\n",
    "        #     ax.set_title(name)\n",
    "        # ax.text(\n",
    "        #     x_max - 0.3,\n",
    "        #     y_min + 0.3,\n",
    "        #     (\"%.2f\" % score).lstrip(\"0\"),\n",
    "        #     size=15,\n",
    "        #     horizontalalignment=\"right\",\n",
    "        # )\n",
    "        \n",
    "        print(f\"{name} score: {score:.2f}\")\n",
    "        i += 1\n",
    "    \n",
    "# plt.tight_layout()\n",
    "# plt.show()"
   ]
  },
  {
   "cell_type": "markdown",
   "id": "b0ecd969",
   "metadata": {},
   "source": [
    "# QSVM\n"
   ]
  },
  {
   "cell_type": "code",
   "execution_count": 26,
   "id": "ea8b3ad2",
   "metadata": {},
   "outputs": [],
   "source": [
    "## QSVM\n",
    "\n",
    "# External imports\n",
    "from pylab import cm\n",
    "from sklearn import metrics\n",
    "import numpy as np\n",
    "import matplotlib\n",
    "import matplotlib.pyplot as plt\n",
    "\n",
    "# Qiskit imports\n",
    "from qiskit import QuantumCircuit\n",
    "from qiskit.circuit import ParameterVector\n",
    "from qiskit.visualization import circuit_drawer\n",
    "from qiskit.circuit.library import ZZFeatureMap\n",
    "from qiskit_machine_learning.optimizers import SPSA\n",
    "from qiskit_machine_learning.kernels import TrainableFidelityQuantumKernel\n",
    "from qiskit_machine_learning.kernels.algorithms import QuantumKernelTrainer\n",
    "from qiskit_machine_learning.algorithms import QSVC\n",
    "from qiskit_machine_learning.datasets import ad_hoc_data\n"
   ]
  },
  {
   "cell_type": "code",
   "execution_count": 45,
   "id": "4aa504da",
   "metadata": {},
   "outputs": [],
   "source": [
    "class QKTCallback:\n",
    "    \"\"\"Callback wrapper class.\"\"\"\n",
    "\n",
    "    def __init__(self) -> None:\n",
    "        self._data = [[] for i in range(5)]\n",
    "\n",
    "    def callback(self, x0, x1=None, x2=None, x3=None, x4=None):\n",
    "        \"\"\"\n",
    "        Args:\n",
    "            x0: number of function evaluations\n",
    "            x1: the parameters\n",
    "            x2: the function value\n",
    "            x3: the stepsize\n",
    "            x4: whether the step was accepted\n",
    "        \"\"\"\n",
    "        self._data[0].append(x0)\n",
    "        self._data[1].append(x1)\n",
    "        self._data[2].append(x2)\n",
    "        self._data[3].append(x3)\n",
    "        self._data[4].append(x4)\n",
    "\n",
    "    def get_callback_data(self):\n",
    "        return self._data\n",
    "\n",
    "    def clear_callback_data(self):\n",
    "        self._data = [[] for i in range(5)]"
   ]
  },
  {
   "cell_type": "code",
   "execution_count": 46,
   "id": "01977e88",
   "metadata": {},
   "outputs": [
    {
     "data": {
      "image/png": "[encoded data removed]",
      "text/plain": [
       "<Figure size 500x500 with 1 Axes>"
      ]
     },
     "metadata": {},
     "output_type": "display_data"
    }
   ],
   "source": [
    "adhoc_dimension = 2\n",
    "X_train, y_train, X_test, y_test, adhoc_total = ad_hoc_data(\n",
    "    training_size=20,\n",
    "    test_size=5,\n",
    "    n=adhoc_dimension,\n",
    "    gap=0.3,\n",
    "    plot_data=False,\n",
    "    one_hot=False,\n",
    "    include_sample_total=True,\n",
    ")\n",
    "\n",
    "plt.figure(figsize=(5, 5))\n",
    "plt.ylim(0, 2 * np.pi)\n",
    "plt.xlim(0, 2 * np.pi)\n",
    "plt.imshow(\n",
    "    np.asmatrix(adhoc_total).T,\n",
    "    interpolation=\"nearest\",\n",
    "    origin=\"lower\",\n",
    "    cmap=\"RdBu\",\n",
    "    extent=[0, 2 * np.pi, 0, 2 * np.pi],\n",
    ")\n",
    "\n",
    "plt.scatter(\n",
    "    X_train[np.where(y_train[:] == 0), 0],\n",
    "    X_train[np.where(y_train[:] == 0), 1],\n",
    "    marker=\"s\",\n",
    "    facecolors=\"w\",\n",
    "    edgecolors=\"b\",\n",
    "    label=\"A train\",\n",
    ")\n",
    "plt.scatter(\n",
    "    X_train[np.where(y_train[:] == 1), 0],\n",
    "    X_train[np.where(y_train[:] == 1), 1],\n",
    "    marker=\"o\",\n",
    "    facecolors=\"w\",\n",
    "    edgecolors=\"r\",\n",
    "    label=\"B train\",\n",
    ")\n",
    "plt.scatter(\n",
    "    X_test[np.where(y_test[:] == 0), 0],\n",
    "    X_test[np.where(y_test[:] == 0), 1],\n",
    "    marker=\"s\",\n",
    "    facecolors=\"b\",\n",
    "    edgecolors=\"w\",\n",
    "    label=\"A test\",\n",
    ")\n",
    "plt.scatter(\n",
    "    X_test[np.where(y_test[:] == 1), 0],\n",
    "    X_test[np.where(y_test[:] == 1), 1],\n",
    "    marker=\"o\",\n",
    "    facecolors=\"r\",\n",
    "    edgecolors=\"w\",\n",
    "    label=\"B test\",\n",
    ")\n",
    "\n",
    "plt.legend(bbox_to_anchor=(1.05, 1), loc=\"upper left\", borderaxespad=0.0)\n",
    "plt.title(\"Ad hoc dataset for classification\")\n",
    "\n",
    "plt.show()"
   ]
  },
  {
   "cell_type": "code",
   "execution_count": 48,
   "id": "119f5a8e",
   "metadata": {},
   "outputs": [
    {
     "name": "stdout",
     "output_type": "stream",
     "text": [
      "     ┌──────────┐┌──────────────────────────┐\n",
      "q_0: ┤ Ry(θ[0]) ├┤0                         ├\n",
      "     ├──────────┤│  ZZFeatureMap(x[0],x[1]) │\n",
      "q_1: ┤ Ry(θ[0]) ├┤1                         ├\n",
      "     └──────────┘└──────────────────────────┘\n",
      "Trainable parameters: θ, ['θ[0]']\n"
     ]
    }
   ],
   "source": [
    "# Create a rotational layer to train. We will rotate each qubit the same amount.\n",
    "training_params = ParameterVector(\"θ\", 1)\n",
    "fm0 = QuantumCircuit(2)\n",
    "fm0.ry(training_params[0], 0)\n",
    "fm0.ry(training_params[0], 1)\n",
    "\n",
    "# Use ZZFeatureMap to represent input data\n",
    "fm1 = ZZFeatureMap(2)\n",
    "\n",
    "# Create the feature map, composed of our two circuits\n",
    "fm = fm0.compose(fm1)\n",
    "\n",
    "print(circuit_drawer(fm))\n",
    "print(f\"Trainable parameters: {training_params}\")"
   ]
  },
  {
   "cell_type": "code",
   "execution_count": 49,
   "id": "2189125e",
   "metadata": {},
   "outputs": [],
   "source": [
    "from qiskit_machine_learning.state_fidelities import ComputeUncompute\n",
    "from qiskit.primitives import StatevectorSampler as Sampler\n",
    "\n",
    "sampler = Sampler()\n",
    "fidelity = ComputeUncompute(sampler=sampler)\n",
    "\n",
    "# Instantiate quantum kernel\n",
    "quant_kernel = TrainableFidelityQuantumKernel(\n",
    "    fidelity=fidelity, feature_map=fm, training_parameters=training_params\n",
    ")\n",
    "\n",
    "# Set up the optimizer\n",
    "cb_qkt = QKTCallback()\n",
    "spsa_opt = SPSA(maxiter=10, callback=cb_qkt.callback, learning_rate=0.05, perturbation=0.05)\n",
    "\n",
    "# Instantiate a quantum kernel trainer.\n",
    "qkt = QuantumKernelTrainer(\n",
    "    quantum_kernel=quant_kernel, loss=\"svc_loss\", optimizer=spsa_opt, initial_point=[np.pi / 2]\n",
    ")"
   ]
  },
  {
   "cell_type": "code",
   "execution_count": 50,
   "id": "0976f646",
   "metadata": {},
   "outputs": [
    {
     "name": "stdout",
     "output_type": "stream",
     "text": [
      "{   'optimal_circuit': None,\n",
      "    'optimal_parameters': {   ParameterVectorElement(θ[0]): np.float64(1.9248618908412807)},\n",
      "    'optimal_point': array([1.92486189]),\n",
      "    'optimal_value': np.float64(10.817660904322473),\n",
      "    'optimizer_evals': 30,\n",
      "    'optimizer_result': None,\n",
      "    'optimizer_time': None,\n",
      "    'quantum_kernel': <qiskit_machine_learning.kernels.trainable_fidelity_quantum_kernel.TrainableFidelityQuantumKernel object at 0x000001DC75013260>}\n"
     ]
    }
   ],
   "source": [
    "# Train the kernel using QKT directly\n",
    "qka_results = qkt.fit(X_train, y_train)\n",
    "optimized_kernel = qka_results.quantum_kernel\n",
    "print(qka_results)"
   ]
  },
  {
   "cell_type": "code",
   "execution_count": 51,
   "id": "6e9b3b54",
   "metadata": {},
   "outputs": [
    {
     "name": "stdout",
     "output_type": "stream",
     "text": [
      "accuracy test: 0.9\n"
     ]
    }
   ],
   "source": [
    "# Use QSVC for classification\n",
    "qsvc = QSVC(quantum_kernel=optimized_kernel)\n",
    "\n",
    "# Fit the QSVC\n",
    "qsvc.fit(X_train, y_train)\n",
    "\n",
    "# Predict the labels\n",
    "labels_test = qsvc.predict(X_test)\n",
    "\n",
    "# Evalaute the test accuracy\n",
    "accuracy_test = metrics.balanced_accuracy_score(y_true=y_test, y_pred=labels_test)\n",
    "print(f\"accuracy test: {accuracy_test}\")"
   ]
  },
  {
   "cell_type": "code",
   "execution_count": 52,
   "id": "d3da5a24",
   "metadata": {},
   "outputs": [
    {
     "data": {
      "image/png": "[encoded data removed]",
      "text/plain": [
       "<Figure size 1400x500 with 2 Axes>"
      ]
     },
     "metadata": {},
     "output_type": "display_data"
    }
   ],
   "source": [
    "plot_data = cb_qkt.get_callback_data()  # callback data\n",
    "K = optimized_kernel.evaluate(X_train)  # kernel matrix evaluated on the training samples\n",
    "\n",
    "plt.rcParams[\"font.size\"] = 20\n",
    "fig, ax = plt.subplots(1, 2, figsize=(14, 5))\n",
    "ax[0].plot([i + 1 for i in range(len(plot_data[0]))], np.array(plot_data[2]), c=\"k\", marker=\"o\")\n",
    "ax[0].set_xlabel(\"Iterations\")\n",
    "ax[0].set_ylabel(\"Loss\")\n",
    "ax[1].imshow(K, cmap=matplotlib.colormaps[\"bwr\"])\n",
    "fig.tight_layout()\n",
    "plt.show()"
   ]
  }
 ],
 "metadata": {
  "kernelspec": {
   "display_name": "Python 3",
   "language": "python",
   "name": "python3"
  },
  "language_info": {
   "codemirror_mode": {
    "name": "ipython",
    "version": 3
   },
   "file_extension": ".py",
   "mimetype": "text/x-python",
   "name": "python",
   "nbconvert_exporter": "python",
   "pygments_lexer": "ipython3",
   "version": "3.12.4"
  }
 },
 "nbformat": 4,
 "nbformat_minor": 5
}
